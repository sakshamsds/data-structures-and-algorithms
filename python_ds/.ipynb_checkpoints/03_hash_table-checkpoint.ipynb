{
 "cells": [
  {
   "cell_type": "code",
   "execution_count": 1,
   "id": "b1d903e7-6b8a-4881-9e09-585a62781cde",
   "metadata": {
    "tags": []
   },
   "outputs": [
    {
     "data": {
      "text/plain": [
       "'\\nHashtable\\n    - dictionary in python implements hashtable\\n\\narray - contiguous memory\\ndictionary - \\n\\nuses hash function to map string key to index of memory location\\n\\nlook up by key = O(1)    - avg, worst = O(n)\\nInsertion/Deletion = O(1)    - avg\\n\\npython - dictionary\\njava - hashmap, linkedhashmap\\n\\n'"
      ]
     },
     "execution_count": 1,
     "metadata": {},
     "output_type": "execute_result"
    }
   ],
   "source": [
    "\"\"\"\n",
    "Hashtable\n",
    "    - dictionary in python implements hashtable\n",
    "\n",
    "array - contiguous memory\n",
    "dictionary - \n",
    "\n",
    "uses hash function to map string key to index of memory location\n",
    "\n",
    "look up by key = O(1)    - avg, worst = O(n)\n",
    "Insertion/Deletion = O(1)    - avg\n",
    "\n",
    "python - dictionary\n",
    "java - hashmap, linkedhashmap\n",
    "\n",
    "\"\"\""
   ]
  },
  {
   "cell_type": "code",
   "execution_count": 2,
   "id": "637dee8f-c64c-40c5-b535-d2b1a2481093",
   "metadata": {
    "tags": []
   },
   "outputs": [],
   "source": [
    "# implement hashmap"
   ]
  },
  {
   "cell_type": "code",
   "execution_count": 3,
   "id": "2c24daee-9f8b-4bad-9909-7837a5139200",
   "metadata": {
    "tags": []
   },
   "outputs": [
    {
     "data": {
      "text/plain": [
       "109"
      ]
     },
     "execution_count": 3,
     "metadata": {},
     "output_type": "execute_result"
    }
   ],
   "source": [
    "ord('m')"
   ]
  },
  {
   "cell_type": "code",
   "execution_count": 4,
   "id": "adf8d451-c4a0-4e94-8e28-a1a83698f478",
   "metadata": {
    "tags": []
   },
   "outputs": [],
   "source": [
    "def get_hash(key):\n",
    "    h = 0\n",
    "    for char in key:\n",
    "        h += ord(char)    # ord get ascii value of char\n",
    "    return h % 100     # 100 is the size of our list"
   ]
  },
  {
   "cell_type": "code",
   "execution_count": 5,
   "id": "603a6ec6-a910-4b26-a4f9-58b46724c32f",
   "metadata": {
    "tags": []
   },
   "outputs": [
    {
     "data": {
      "text/plain": [
       "55"
      ]
     },
     "execution_count": 5,
     "metadata": {},
     "output_type": "execute_result"
    }
   ],
   "source": [
    "get_hash('march 31')"
   ]
  },
  {
   "cell_type": "code",
   "execution_count": 6,
   "id": "3d02f5dc-d2fd-4398-9cbb-c006669214f6",
   "metadata": {
    "tags": []
   },
   "outputs": [],
   "source": [
    "class HashTable:\n",
    "    def __init__(self):\n",
    "        self.MAX = 100\n",
    "        self.arr = [None for i in range(self.MAX)]\n",
    "        \n",
    "    def get_hash(self, key):\n",
    "        h = 0\n",
    "        for char in key:\n",
    "            h += ord(char)\n",
    "        return h % self.MAX\n",
    "    \n",
    "    def add(self, key, val):\n",
    "        h = self.get_hash(key)\n",
    "        self.arr[h] = val\n",
    "        \n",
    "    def get(self, key):\n",
    "        h = self.get_hash(key)\n",
    "        return self.arr[h]\n",
    "    \n",
    "    def __setitem__(self, key, val):\n",
    "        h = self.get_hash(key)\n",
    "        self.arr[h] = val\n",
    "        \n",
    "    def __getitem__(self, key):\n",
    "        h = self.get_hash(key)\n",
    "        return self.arr[h]\n",
    "    \n",
    "    def __delitem__(self, key):\n",
    "        h = self.get_hash(key)\n",
    "        self.arr[h] = None"
   ]
  },
  {
   "cell_type": "code",
   "execution_count": 7,
   "id": "96ed6213-e691-4a46-a908-17142e805ddb",
   "metadata": {
    "tags": []
   },
   "outputs": [
    {
     "data": {
      "text/plain": [
       "130"
      ]
     },
     "execution_count": 7,
     "metadata": {},
     "output_type": "execute_result"
    }
   ],
   "source": [
    "t = HashTable()\n",
    "# t.add('april 12', 130)\n",
    "# t.get('april 12')\n",
    "t['april 12'] = 130\n",
    "t['april 12']"
   ]
  },
  {
   "cell_type": "code",
   "execution_count": 8,
   "id": "fc44181c-8026-49a9-b2cc-328bd5d82cb0",
   "metadata": {
    "tags": []
   },
   "outputs": [],
   "source": [
    "del t['april 12']\n",
    "t['april 12']"
   ]
  },
  {
   "cell_type": "code",
   "execution_count": 9,
   "id": "25a19fd3-5ce0-4fdd-9a62-21c7c5488f6e",
   "metadata": {
    "tags": []
   },
   "outputs": [
    {
     "data": {
      "text/plain": [
       "100"
      ]
     },
     "execution_count": 9,
     "metadata": {},
     "output_type": "execute_result"
    }
   ],
   "source": [
    "# t.arr\n",
    "t.MAX"
   ]
  },
  {
   "cell_type": "code",
   "execution_count": 10,
   "id": "1e7c823e-abd1-4c06-9c1e-8a72fc10cfcf",
   "metadata": {},
   "outputs": [],
   "source": [
    "# Separate Chaining\n",
    "# add linked list at every array location\n",
    "# store key, value pair and do linear search"
   ]
  },
  {
   "cell_type": "code",
   "execution_count": 18,
   "id": "2a978d3d-17bf-4e65-be15-26e68ddd8c09",
   "metadata": {
    "tags": []
   },
   "outputs": [],
   "source": [
    "class HashTable:\n",
    "    def __init__(self):\n",
    "        self.MAX = 10\n",
    "        self.arr = [[] for i in range(self.MAX)]\n",
    "        \n",
    "    def get_hash(self, key):\n",
    "        h = 0\n",
    "        for char in key:\n",
    "            h += ord(char)\n",
    "        return h % self.MAX\n",
    "\n",
    "    def __setitem__(self, key, val):\n",
    "        h = self.get_hash(key)\n",
    "        # if element already exists\n",
    "        found = False\n",
    "        for idx, element in enumerate(self.arr[h]):\n",
    "            if len(element) == 2 and element[0] == key:\n",
    "                self.arr[h][idx] = (key, val)\n",
    "                found = True\n",
    "                break\n",
    "        # if element doesn't exists\n",
    "        if not found:\n",
    "            self.arr[h].append((key, val))\n",
    "    \n",
    "    def __getitem__(self, key):\n",
    "        h = self.get_hash(key)\n",
    "        for element in self.arr[h]:\n",
    "            if element[0] == key:\n",
    "                return element[1]\n",
    "        return None\n",
    "    \n",
    "    def __delitem__(self, key):\n",
    "        h = self.get_hash(key)\n",
    "        for element in self.arr[h]:\n",
    "            if element[0] == key:\n",
    "                self.arr[h].remove(element)"
   ]
  },
  {
   "cell_type": "code",
   "execution_count": 19,
   "id": "23c8cc28-a869-416a-adab-386382c10a0a",
   "metadata": {
    "tags": []
   },
   "outputs": [
    {
     "data": {
      "text/plain": [
       "78"
      ]
     },
     "execution_count": 19,
     "metadata": {},
     "output_type": "execute_result"
    }
   ],
   "source": [
    "t = HashTable()\n",
    "t[\"march 6\"] = 120\n",
    "t['march 6'] = 78\n",
    "t['march 17'] = 459\n",
    "t[\"march 6\"] "
   ]
  },
  {
   "cell_type": "code",
   "execution_count": 20,
   "id": "b72b1fe3-ad24-4776-8456-3f915dae9f7a",
   "metadata": {
    "tags": []
   },
   "outputs": [],
   "source": [
    "del t['march 17']\n",
    "t['march 17']"
   ]
  },
  {
   "cell_type": "code",
   "execution_count": 13,
   "id": "8b6ff0ab-4cc7-4ee3-90b5-e05b3fc4cb00",
   "metadata": {
    "tags": []
   },
   "outputs": [],
   "source": [
    "# Linear Probing\n",
    "# search for empty slot to store key value pair"
   ]
  }
 ],
 "metadata": {
  "kernelspec": {
   "display_name": "Python 3 (ipykernel)",
   "language": "python",
   "name": "python3"
  },
  "language_info": {
   "codemirror_mode": {
    "name": "ipython",
    "version": 3
   },
   "file_extension": ".py",
   "mimetype": "text/x-python",
   "name": "python",
   "nbconvert_exporter": "python",
   "pygments_lexer": "ipython3",
   "version": "3.10.9"
  }
 },
 "nbformat": 4,
 "nbformat_minor": 5
}
