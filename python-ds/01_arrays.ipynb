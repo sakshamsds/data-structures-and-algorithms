{
 "cells": [
  {
   "cell_type": "code",
   "execution_count": 1,
   "id": "f0aad66a-11fd-4e84-b3c9-60bd179b70d8",
   "metadata": {
    "tags": []
   },
   "outputs": [],
   "source": [
    "# Arrays - Data Structures & Algorithms Tutorials in Python #3\n",
    "\n",
    "'''\n",
    "# variables are stored on a RAM\n",
    "\n",
    "# lookup by index = O(1),   i.e., constant time\n",
    "# lookup by value = O(n)\n",
    "# insert at index = O(n),   Array insertion, memory locations of next element will change\n",
    "# delete element at index = O(n)\n",
    "\n",
    "# python list = dynamic array,      allocates initial capacity, additional capacity = 2 * initial capacity\n",
    "# java has both static and dynamic arrays\n",
    "'''\n",
    "\n",
    "\n",
    "expenses = [2200, 2350, 2600, 2130, 2190]"
   ]
  },
  {
   "cell_type": "code",
   "execution_count": 2,
   "id": "efddb833-6488-4ec9-a7de-03d58e5e1b22",
   "metadata": {
    "tags": []
   },
   "outputs": [
    {
     "data": {
      "text/plain": [
       "150"
      ]
     },
     "execution_count": 2,
     "metadata": {},
     "output_type": "execute_result"
    }
   ],
   "source": [
    "# 1. In Feb, how many dollars you spent extra compare to January?\n",
    "expenses[1] - expenses[0]"
   ]
  },
  {
   "cell_type": "code",
   "execution_count": 3,
   "id": "4fe94e61-1491-474e-ad28-9608c23ffc74",
   "metadata": {
    "tags": []
   },
   "outputs": [
    {
     "data": {
      "text/plain": [
       "7150"
      ]
     },
     "execution_count": 3,
     "metadata": {},
     "output_type": "execute_result"
    }
   ],
   "source": [
    "# 2. Find out your total expense in first quarter (first three months) of the year.\n",
    "expenses[0] + expenses[1] + expenses[2]"
   ]
  },
  {
   "cell_type": "code",
   "execution_count": 4,
   "id": "da66db68-cb0b-4d64-987f-e0869a0b635b",
   "metadata": {
    "tags": []
   },
   "outputs": [
    {
     "data": {
      "text/plain": [
       "False"
      ]
     },
     "execution_count": 4,
     "metadata": {},
     "output_type": "execute_result"
    }
   ],
   "source": [
    "# 3. Find out if you spent exactly 2000 dollars in any month\n",
    "two_k_expense = False\n",
    "for expense in expenses:\n",
    "    if expense == 2000:\n",
    "        two_k_expense = True\n",
    "        break\n",
    "\n",
    "two_k_expense"
   ]
  },
  {
   "cell_type": "code",
   "execution_count": 5,
   "id": "c24db4f5-3282-4694-acf5-85f0b4856aa1",
   "metadata": {
    "tags": []
   },
   "outputs": [
    {
     "data": {
      "text/plain": [
       "[2200, 2350, 2600, 2130, 2190, 1980]"
      ]
     },
     "execution_count": 5,
     "metadata": {},
     "output_type": "execute_result"
    }
   ],
   "source": [
    "# 4. June month just finished and your expense is 1980 dollar. Add this item to our monthly expense list\n",
    "expenses.append(1980)\n",
    "expenses"
   ]
  },
  {
   "cell_type": "code",
   "execution_count": 6,
   "id": "d7cb6e03-6d3a-4bee-b959-7825baa20aa9",
   "metadata": {
    "tags": []
   },
   "outputs": [
    {
     "data": {
      "text/plain": [
       "[2200, 2350, 2600, 1930, 2190, 1980]"
      ]
     },
     "execution_count": 6,
     "metadata": {},
     "output_type": "execute_result"
    }
   ],
   "source": [
    "# 5. You returned an item that you bought in a month of April and\n",
    "# got a refund of 200$. Make a correction to your monthly expense list\n",
    "# based on this\n",
    "expenses[3]-=200\n",
    "expenses"
   ]
  },
  {
   "cell_type": "code",
   "execution_count": 10,
   "id": "471a90dc-1322-40b7-9d9e-8a603d5e5dbc",
   "metadata": {},
   "outputs": [
    {
     "name": "stdin",
     "output_type": "stream",
     "text": [
      "Enter max number:  20\n"
     ]
    },
    {
     "data": {
      "text/plain": [
       "[1, 3, 5, 7, 9, 11, 13, 15, 17, 19]"
      ]
     },
     "execution_count": 10,
     "metadata": {},
     "output_type": "execute_result"
    }
   ],
   "source": [
    "# Create a list of all odd numbers between 1 and a max number. Max number is something you need to take from a user using input() function\n",
    "\n",
    "max_num = int(input(\"Enter max number: \"))\n",
    "\n",
    "list_odd = []\n",
    "\n",
    "for i in range(max_num//2):\n",
    "    list_odd.append(2 * i + 1)\n",
    "    \n",
    "list_odd"
   ]
  },
  {
   "cell_type": "code",
   "execution_count": null,
   "id": "0e7bb2e3-1261-4a39-974b-57a4c77be6ed",
   "metadata": {},
   "outputs": [],
   "source": []
  }
 ],
 "metadata": {
  "kernelspec": {
   "display_name": "Python 3 (ipykernel)",
   "language": "python",
   "name": "python3"
  },
  "language_info": {
   "codemirror_mode": {
    "name": "ipython",
    "version": 3
   },
   "file_extension": ".py",
   "mimetype": "text/x-python",
   "name": "python",
   "nbconvert_exporter": "python",
   "pygments_lexer": "ipython3",
   "version": "3.10.9"
  }
 },
 "nbformat": 4,
 "nbformat_minor": 5
}
