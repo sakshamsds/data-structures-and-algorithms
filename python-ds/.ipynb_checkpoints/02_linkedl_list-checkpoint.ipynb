{
 "cells": [
  {
   "cell_type": "code",
   "execution_count": null,
   "id": "39a28892-e551-449b-9d82-d18cf25ceeed",
   "metadata": {},
   "outputs": [],
   "source": [
    "# Linked List - Data Structures & Algorithms Tutorials in Python #4\n",
    "\n",
    "'''\n",
    "Problem with arrays\n",
    "    - insertion is O(n)\n",
    "    - contiguous memory\n",
    "\n",
    "elements linked with a reference\n",
    "\n",
    "insertion at beginning = O(1)\n",
    "deleteion at beginning = O(1)\n",
    "insert/delete element at the end = O(n)\n",
    "\n",
    "Advantages\n",
    "    - No need to pre allocate space\n",
    "    - insertion is easier\n",
    "    \n",
    "'''\n"
   ]
  }
 ],
 "metadata": {
  "kernelspec": {
   "display_name": "Python 3 (ipykernel)",
   "language": "python",
   "name": "python3"
  },
  "language_info": {
   "codemirror_mode": {
    "name": "ipython",
    "version": 3
   },
   "file_extension": ".py",
   "mimetype": "text/x-python",
   "name": "python",
   "nbconvert_exporter": "python",
   "pygments_lexer": "ipython3",
   "version": "3.10.9"
  }
 },
 "nbformat": 4,
 "nbformat_minor": 5
}
